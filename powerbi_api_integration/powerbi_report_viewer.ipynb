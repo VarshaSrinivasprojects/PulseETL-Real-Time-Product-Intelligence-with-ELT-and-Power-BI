{
 "cells": [
  {
   "cell_type": "code",
   "execution_count": null,
   "id": "token-request",
   "metadata": {},
   "outputs": [],
   "source": [
    "from msal import ConfidentialClientApplication\n",
    "import requests\n\n",
    "# Azure app credentials\n",
    "TENANT_ID = 'your-tenant-id'\n",
    "CLIENT_ID = 'your-client-id'\n",
    "CLIENT_SECRET = 'your-client-secret'\n",
    "AUTHORITY = f'https://login.microsoftonline.com/{TENANT_ID}'\n",
    "SCOPE = ['https://analysis.windows.net/powerbi/api/.default']\n\n",
    "# Authenticate\n",
    "app = ConfidentialClientApplication(CLIENT_ID, authority=AUTHORITY, client_credential=CLIENT_SECRET)\n",
    "token_response = app.acquire_token_for_client(scopes=SCOPE)\n",
    "access_token = token_response['access_token']\n\n",
    "# Fetch report metadata\n",
    "headers = {'Authorization': f'Bearer {access_token}'}\n",
    "WORKSPACE_ID = 'your-workspace-id'\n",
    "REPORT_ID = 'your-report-id'\n",
    "url = f'https://api.powerbi.com/v1.0/myorg/groups/{WORKSPACE_ID}/reports/{REPORT_ID}'\n",
    "response = requests.get(url, headers=headers)\n",
    "print(response.json())"
   ]
  }
 ],
 "metadata": {},
 "nbformat": 4,
 "nbformat_minor": 5
}
